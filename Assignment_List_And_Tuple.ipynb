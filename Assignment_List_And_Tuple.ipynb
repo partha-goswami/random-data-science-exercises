{
 "cells": [
  {
   "cell_type": "markdown",
   "metadata": {},
   "source": [
    "#🎓🎓 Analytics Vidhya conducted an assessment test to hire a Data Scientist. The\n",
    "candidates were evaluated on 5 different subjects A, B, C, D, and E. The marks of\n",
    "5 different subjects out of 100 are given below. Help Analytics Vidhya to find out\n",
    "the answers of the following questions.\n",
    "\n",
    "● 🙇 Who scored the highest marks in the subject B?\n",
    "● 🙇 What is the average marks scored in the subject C?\n",
    "● 🙇 Who scored the highest percentage of marks?\n",
    "● 🙇 If considered only top-4 subjects of a candidate, then who scored the highest\n",
    "percentage of marks?"
   ]
  },
  {
   "cell_type": "code",
   "execution_count": 3,
   "metadata": {},
   "outputs": [],
   "source": [
    "# Input Data\n",
    "student_marks = [\n",
    "    ['Name', ['A', 'B', 'C', 'D', 'E']],\n",
    "    ['Ankit',   [41, 34, 45, 55, 63]],\n",
    "    ['Aravind', [42, 23, 34, 44, 53]],\n",
    "    ['Lakshay', [32, 23, 13, 54, 67]],\n",
    "    ['Gyan',    [23, 82, 23, 63, 34]],\n",
    "    ['Pranav',  [21, 23, 25, 56, 56]]\n",
    "]"
   ]
  },
  {
   "cell_type": "code",
   "execution_count": 9,
   "metadata": {},
   "outputs": [
    {
     "name": "stdout",
     "output_type": "stream",
     "text": [
      "Gyan scored highest marks in B, and the highest marks is:  82 .\n"
     ]
    }
   ],
   "source": [
    "# Question 1 : Who scored the highest marks in the subject B ?\n",
    "\n",
    "highest_B_marks_holder = ''\n",
    "highest_B_marks = 0 #ideally should contain minimum value possible for an int\n",
    "\n",
    "for i in range(len(student_marks)):\n",
    "    \n",
    "    # Header\n",
    "    if i == 0:\n",
    "        continue;\n",
    "    \n",
    "    if student_marks[i][1][1] > highest_B_marks:\n",
    "        highest_B_marks = student_marks[i][1][1]\n",
    "        highest_B_marks_holder = student_marks[i][0]\n",
    "\n",
    "print(highest_B_marks_holder, 'scored highest marks in B, and the highest marks is: ', highest_B_marks, '.')    "
   ]
  },
  {
   "cell_type": "code",
   "execution_count": 12,
   "metadata": {},
   "outputs": [
    {
     "name": "stdout",
     "output_type": "stream",
     "text": [
      "Average marks scored in subject C is:  28.0 .\n"
     ]
    }
   ],
   "source": [
    "# Question 2 : What is the average marks scored in the subject C ?\n",
    "\n",
    "C_list = []\n",
    "\n",
    "for i in range(len(student_marks)):\n",
    "    if i == 0:\n",
    "        continue;\n",
    "    \n",
    "    C_list.append(student_marks[i][1][2])\n",
    "\n",
    "print('Average marks scored in subject C is: ', str(sum(C_list)/len(C_list)), '.')"
   ]
  },
  {
   "cell_type": "code",
   "execution_count": 13,
   "metadata": {},
   "outputs": [
    {
     "data": {
      "text/plain": [
       "[['Name', ['A', 'B', 'C', 'D', 'E']],\n",
       " ['Ankit', [41, 34, 45, 55, 63]],\n",
       " ['Aravind', [42, 23, 34, 44, 53]],\n",
       " ['Lakshay', [32, 23, 13, 54, 67]],\n",
       " ['Gyan', [23, 82, 23, 63, 34]],\n",
       " ['Pranav', [21, 23, 25, 56, 56]]]"
      ]
     },
     "execution_count": 13,
     "metadata": {},
     "output_type": "execute_result"
    }
   ],
   "source": [
    "# Let's print the list again for answering next questions\n",
    "student_marks"
   ]
  },
  {
   "cell_type": "code",
   "execution_count": 20,
   "metadata": {},
   "outputs": [
    {
     "name": "stdout",
     "output_type": "stream",
     "text": [
      "Ankit scored highest % marks, and the highest % marks is:  47.599999999999994 .\n"
     ]
    }
   ],
   "source": [
    "# Question 3 : Who scored the highest percentage of marks ?\n",
    "\n",
    "highest_percent_marks_holder = ''\n",
    "highest_percent_marks = 0 #ideally should contain minimum value possible for an int\n",
    "\n",
    "for i in range(len(student_marks)):\n",
    "    \n",
    "    # Header\n",
    "    if i == 0:\n",
    "        continue;\n",
    "    \n",
    "    if (sum(student_marks[i][1])/(len(student_marks[i][1]) * 100)) * 100 > highest_percent_marks:\n",
    "        highest_percent_marks = (sum(student_marks[i][1])/(len(student_marks[i][1]) * 100)) * 100\n",
    "        highest_percent_marks_holder = student_marks[i][0]\n",
    "\n",
    "print(highest_percent_marks_holder, 'scored highest % marks, and the highest % marks is: ', highest_percent_marks, '.')"
   ]
  },
  {
   "cell_type": "code",
   "execution_count": 22,
   "metadata": {},
   "outputs": [
    {
     "name": "stdout",
     "output_type": "stream",
     "text": [
      "Gyan scored highest % marks, and the highest % marks is:  47.75 .\n"
     ]
    }
   ],
   "source": [
    "# Question 4 : If considered only top-4 subjects of a candidate, then who scored the highest percentage of marks ?\n",
    "# We would filter/take subset from the list, but would follow same technique\n",
    "\n",
    "highest_percent_marks_holder = ''\n",
    "highest_percent_marks = 0 #ideally should contain minimum value possible for an int\n",
    "\n",
    "for i in range(len(student_marks)):\n",
    "    \n",
    "    # Header\n",
    "    if i == 0:\n",
    "        continue;\n",
    "    \n",
    "    if (sum(student_marks[i][1][:4])/(len(student_marks[i][1][:4]) * 100)) * 100 > highest_percent_marks:\n",
    "        highest_percent_marks = (sum(student_marks[i][1][:4])/(len(student_marks[i][1][:4]) * 100)) * 100\n",
    "        highest_percent_marks_holder = student_marks[i][0]\n",
    "\n",
    "print(highest_percent_marks_holder, 'scored highest % marks, and the highest % marks is: ', highest_percent_marks, '.')"
   ]
  },
  {
   "cell_type": "code",
   "execution_count": null,
   "metadata": {},
   "outputs": [],
   "source": []
  }
 ],
 "metadata": {
  "kernelspec": {
   "display_name": "Python 3",
   "language": "python",
   "name": "python3"
  },
  "language_info": {
   "codemirror_mode": {
    "name": "ipython",
    "version": 3
   },
   "file_extension": ".py",
   "mimetype": "text/x-python",
   "name": "python",
   "nbconvert_exporter": "python",
   "pygments_lexer": "ipython3",
   "version": "3.6.5"
  }
 },
 "nbformat": 4,
 "nbformat_minor": 2
}
